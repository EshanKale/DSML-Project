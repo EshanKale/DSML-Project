{
  "cells": [
    {
      "cell_type": "code",
      "execution_count": 129,
      "metadata": {
        "id": "zP0KlynzO_s9"
      },
      "outputs": [],
      "source": [
        "import pandas as pd\n",
        "from sklearn.preprocessing import StandardScaler\n",
        "from sklearn.model_selection import train_test_split\n",
        "from sklearn.linear_model import LinearRegression, Ridge, Lasso\n",
        "from sklearn.linear_model import LogisticRegression\n",
        "from sklearn.metrics import f1_score, r2_score, mean_squared_error, classification_report\n",
        "from sklearn import neighbors\n",
        "from sklearn.metrics import mean_squared_error\n",
        "from sklearn.preprocessing import MinMaxScaler\n",
        "from sklearn.neighbors import KNeighborsClassifier\n",
        "from sklearn.svm import SVC\n",
        "from sklearn import tree\n",
        "from sklearn.naive_bayes import GaussianNB\n",
        "from sklearn.model_selection import GridSearchCV\n",
        "from sklearn.neighbors import KNeighborsClassifier\n",
        "import keras\n",
        "import tensorflow as tf\n",
        "import numpy as np\n",
        "import matplotlib.pyplot as plt\n",
        "import math\n",
        "from keras.models import Sequential\n",
        "from keras.layers import Dense\n",
        "from sklearn.cluster import KMeans\n",
        "from datetime import datetime\n",
        "import time\n",
        "import statistics"
      ]
    },
    {
      "cell_type": "code",
      "execution_count": 130,
      "metadata": {
        "colab": {
          "base_uri": "https://localhost:8080/"
        },
        "id": "f9W9vdLXPFpJ",
        "outputId": "c4b6c6e6-c9e7-4216-a59d-9b5121bbf28c"
      },
      "outputs": [
        {
          "output_type": "stream",
          "name": "stdout",
          "text": [
            "Drive already mounted at /content/drive/; to attempt to forcibly remount, call drive.mount(\"/content/drive/\", force_remount=True).\n"
          ]
        }
      ],
      "source": [
        "from google.colab import drive\n",
        "drive.mount('/content/drive/')"
      ]
    },
    {
      "cell_type": "code",
      "execution_count": 215,
      "metadata": {
        "id": "D4RuXEbOPLRP"
      },
      "outputs": [],
      "source": [
        "f1  = pd.read_csv('/content/drive/MyDrive/project6/stocknet_trn_data.csv')\n",
        "f2 = pd.read_csv('/content/drive/MyDrive/project6/stocknet_trn_data_targets.csv',header = None)\n",
        "f2 = f2.drop([0], axis = 1)\n",
        "f3 = pd.read_csv('/content/drive/MyDrive/project6/stocknet_tst_data.csv')\n"
      ]
    },
    {
      "cell_type": "code",
      "execution_count": 216,
      "metadata": {
        "colab": {
          "base_uri": "https://localhost:8080/"
        },
        "id": "48Ie6j0VV48X",
        "outputId": "16cdf52f-18c6-49cf-8273-9dea5661345d"
      },
      "outputs": [
        {
          "output_type": "execute_result",
          "data": {
            "text/plain": [
              "(array([], dtype=int64), array([], dtype=int64))"
            ]
          },
          "metadata": {},
          "execution_count": 216
        }
      ],
      "source": [
        "f2 = f2.drop([7642, 46002, 61502], axis = 0)\n",
        "f1 = f1.drop([7642, 46002, 61502], axis = 0)\n",
        "np.where(np.isnan(f2))"
      ]
    },
    {
      "cell_type": "code",
      "execution_count": 217,
      "metadata": {
        "id": "h2tPY31ZyuT-"
      },
      "outputs": [],
      "source": [
        "fo1 = f1.copy()\n",
        "fo3 = f3.copy()"
      ]
    },
    {
      "cell_type": "code",
      "source": [
        "nfo1 = fo1.copy()\n",
        "nf2 = f2.copy()\n",
        "nfo3 = fo3.copy()"
      ],
      "metadata": {
        "id": "F6Gt-DY-lDuC"
      },
      "execution_count": 218,
      "outputs": []
    },
    {
      "cell_type": "code",
      "execution_count": 211,
      "metadata": {
        "id": "q7pd8G8KWMbQ"
      },
      "outputs": [],
      "source": [
        "f1[\"Traded Value\"] = f1[\"Open\"] * f1[\"Volume\"] \n",
        "f1[\"HL Percent\"] = (f1[\"High\"] - f1[\"Low\"]) / (f1[\"High\"])\n",
        "\n",
        "f3[\"Traded Value\"] = f3[\"Open\"] * f3[\"Volume\"] \n",
        "f3[\"HL Percent\"] = (f3[\"High\"] - f3[\"Low\"]) / (f3[\"High\"])"
      ]
    },
    {
      "cell_type": "code",
      "execution_count": 212,
      "metadata": {
        "id": "-Y5KaLAgp0OS"
      },
      "outputs": [],
      "source": [
        "f4 = f1.copy()\n",
        "f4[\"Close\"] = f2"
      ]
    },
    {
      "cell_type": "code",
      "source": [
        "not_scaled_f1 = f1.copy()"
      ],
      "metadata": {
        "id": "-Qo2OnrbwmlM"
      },
      "execution_count": 198,
      "outputs": []
    },
    {
      "cell_type": "code",
      "execution_count": 137,
      "metadata": {
        "id": "Jf7t--e_SiRm"
      },
      "outputs": [],
      "source": [
        "scaler = StandardScaler()\n",
        "scaler.fit(f4)\n",
        "f5 = scaler.transform(f4)\n",
        "df = pd.DataFrame(f5)"
      ]
    },
    {
      "cell_type": "code",
      "source": [
        "f4"
      ],
      "metadata": {
        "id": "eBs93_HOK2mr",
        "outputId": "73e2c54f-e114-4250-f957-274765ef1371",
        "colab": {
          "base_uri": "https://localhost:8080/",
          "height": 424
        }
      },
      "execution_count": 138,
      "outputs": [
        {
          "output_type": "execute_result",
          "data": {
            "text/plain": [
              "             Open        High         Low      Volume  Traded Value  \\\n",
              "0       75.430000   75.910004   75.139999   3436700.0  2.592303e+08   \n",
              "1      124.930000  124.940002  124.169998   2366700.0  2.956718e+08   \n",
              "2       84.339996   84.370003   82.370003  11338700.0  9.563059e+08   \n",
              "3       56.770000   57.150002   56.529999    413300.0  2.346304e+07   \n",
              "4       47.419998   48.090000   46.759998   9531100.0  4.519647e+08   \n",
              "...           ...         ...         ...         ...           ...   \n",
              "97727  103.650002  103.809998  103.089996   3678200.0  3.812454e+08   \n",
              "97728   64.419998   64.730003   64.190002  20273100.0  1.305993e+09   \n",
              "97729  581.070007  581.400024  571.070007   3416500.0  1.985226e+09   \n",
              "97730  120.650002  120.650002  114.959999  13261700.0  1.600024e+09   \n",
              "97731   64.870003   64.959999   64.309998    667000.0  4.326829e+07   \n",
              "\n",
              "       HL Percent       Close  \n",
              "0        0.010144   75.650002  \n",
              "1        0.006163  124.449997  \n",
              "2        0.023705   82.660004  \n",
              "3        0.010849   57.009998  \n",
              "4        0.027657   47.860001  \n",
              "...           ...         ...  \n",
              "97727    0.006936  103.230003  \n",
              "97728    0.008342   64.620003  \n",
              "97729    0.017767  575.140015  \n",
              "97730    0.047161  115.400002  \n",
              "97731    0.010006   64.720001  \n",
              "\n",
              "[97729 rows x 7 columns]"
            ],
            "text/html": [
              "\n",
              "  <div id=\"df-bdf01302-7900-49f8-beb6-1a83574722ed\">\n",
              "    <div class=\"colab-df-container\">\n",
              "      <div>\n",
              "<style scoped>\n",
              "    .dataframe tbody tr th:only-of-type {\n",
              "        vertical-align: middle;\n",
              "    }\n",
              "\n",
              "    .dataframe tbody tr th {\n",
              "        vertical-align: top;\n",
              "    }\n",
              "\n",
              "    .dataframe thead th {\n",
              "        text-align: right;\n",
              "    }\n",
              "</style>\n",
              "<table border=\"1\" class=\"dataframe\">\n",
              "  <thead>\n",
              "    <tr style=\"text-align: right;\">\n",
              "      <th></th>\n",
              "      <th>Open</th>\n",
              "      <th>High</th>\n",
              "      <th>Low</th>\n",
              "      <th>Volume</th>\n",
              "      <th>Traded Value</th>\n",
              "      <th>HL Percent</th>\n",
              "      <th>Close</th>\n",
              "    </tr>\n",
              "  </thead>\n",
              "  <tbody>\n",
              "    <tr>\n",
              "      <th>0</th>\n",
              "      <td>75.430000</td>\n",
              "      <td>75.910004</td>\n",
              "      <td>75.139999</td>\n",
              "      <td>3436700.0</td>\n",
              "      <td>2.592303e+08</td>\n",
              "      <td>0.010144</td>\n",
              "      <td>75.650002</td>\n",
              "    </tr>\n",
              "    <tr>\n",
              "      <th>1</th>\n",
              "      <td>124.930000</td>\n",
              "      <td>124.940002</td>\n",
              "      <td>124.169998</td>\n",
              "      <td>2366700.0</td>\n",
              "      <td>2.956718e+08</td>\n",
              "      <td>0.006163</td>\n",
              "      <td>124.449997</td>\n",
              "    </tr>\n",
              "    <tr>\n",
              "      <th>2</th>\n",
              "      <td>84.339996</td>\n",
              "      <td>84.370003</td>\n",
              "      <td>82.370003</td>\n",
              "      <td>11338700.0</td>\n",
              "      <td>9.563059e+08</td>\n",
              "      <td>0.023705</td>\n",
              "      <td>82.660004</td>\n",
              "    </tr>\n",
              "    <tr>\n",
              "      <th>3</th>\n",
              "      <td>56.770000</td>\n",
              "      <td>57.150002</td>\n",
              "      <td>56.529999</td>\n",
              "      <td>413300.0</td>\n",
              "      <td>2.346304e+07</td>\n",
              "      <td>0.010849</td>\n",
              "      <td>57.009998</td>\n",
              "    </tr>\n",
              "    <tr>\n",
              "      <th>4</th>\n",
              "      <td>47.419998</td>\n",
              "      <td>48.090000</td>\n",
              "      <td>46.759998</td>\n",
              "      <td>9531100.0</td>\n",
              "      <td>4.519647e+08</td>\n",
              "      <td>0.027657</td>\n",
              "      <td>47.860001</td>\n",
              "    </tr>\n",
              "    <tr>\n",
              "      <th>...</th>\n",
              "      <td>...</td>\n",
              "      <td>...</td>\n",
              "      <td>...</td>\n",
              "      <td>...</td>\n",
              "      <td>...</td>\n",
              "      <td>...</td>\n",
              "      <td>...</td>\n",
              "    </tr>\n",
              "    <tr>\n",
              "      <th>97727</th>\n",
              "      <td>103.650002</td>\n",
              "      <td>103.809998</td>\n",
              "      <td>103.089996</td>\n",
              "      <td>3678200.0</td>\n",
              "      <td>3.812454e+08</td>\n",
              "      <td>0.006936</td>\n",
              "      <td>103.230003</td>\n",
              "    </tr>\n",
              "    <tr>\n",
              "      <th>97728</th>\n",
              "      <td>64.419998</td>\n",
              "      <td>64.730003</td>\n",
              "      <td>64.190002</td>\n",
              "      <td>20273100.0</td>\n",
              "      <td>1.305993e+09</td>\n",
              "      <td>0.008342</td>\n",
              "      <td>64.620003</td>\n",
              "    </tr>\n",
              "    <tr>\n",
              "      <th>97729</th>\n",
              "      <td>581.070007</td>\n",
              "      <td>581.400024</td>\n",
              "      <td>571.070007</td>\n",
              "      <td>3416500.0</td>\n",
              "      <td>1.985226e+09</td>\n",
              "      <td>0.017767</td>\n",
              "      <td>575.140015</td>\n",
              "    </tr>\n",
              "    <tr>\n",
              "      <th>97730</th>\n",
              "      <td>120.650002</td>\n",
              "      <td>120.650002</td>\n",
              "      <td>114.959999</td>\n",
              "      <td>13261700.0</td>\n",
              "      <td>1.600024e+09</td>\n",
              "      <td>0.047161</td>\n",
              "      <td>115.400002</td>\n",
              "    </tr>\n",
              "    <tr>\n",
              "      <th>97731</th>\n",
              "      <td>64.870003</td>\n",
              "      <td>64.959999</td>\n",
              "      <td>64.309998</td>\n",
              "      <td>667000.0</td>\n",
              "      <td>4.326829e+07</td>\n",
              "      <td>0.010006</td>\n",
              "      <td>64.720001</td>\n",
              "    </tr>\n",
              "  </tbody>\n",
              "</table>\n",
              "<p>97729 rows × 7 columns</p>\n",
              "</div>\n",
              "      <button class=\"colab-df-convert\" onclick=\"convertToInteractive('df-bdf01302-7900-49f8-beb6-1a83574722ed')\"\n",
              "              title=\"Convert this dataframe to an interactive table.\"\n",
              "              style=\"display:none;\">\n",
              "        \n",
              "  <svg xmlns=\"http://www.w3.org/2000/svg\" height=\"24px\"viewBox=\"0 0 24 24\"\n",
              "       width=\"24px\">\n",
              "    <path d=\"M0 0h24v24H0V0z\" fill=\"none\"/>\n",
              "    <path d=\"M18.56 5.44l.94 2.06.94-2.06 2.06-.94-2.06-.94-.94-2.06-.94 2.06-2.06.94zm-11 1L8.5 8.5l.94-2.06 2.06-.94-2.06-.94L8.5 2.5l-.94 2.06-2.06.94zm10 10l.94 2.06.94-2.06 2.06-.94-2.06-.94-.94-2.06-.94 2.06-2.06.94z\"/><path d=\"M17.41 7.96l-1.37-1.37c-.4-.4-.92-.59-1.43-.59-.52 0-1.04.2-1.43.59L10.3 9.45l-7.72 7.72c-.78.78-.78 2.05 0 2.83L4 21.41c.39.39.9.59 1.41.59.51 0 1.02-.2 1.41-.59l7.78-7.78 2.81-2.81c.8-.78.8-2.07 0-2.86zM5.41 20L4 18.59l7.72-7.72 1.47 1.35L5.41 20z\"/>\n",
              "  </svg>\n",
              "      </button>\n",
              "      \n",
              "  <style>\n",
              "    .colab-df-container {\n",
              "      display:flex;\n",
              "      flex-wrap:wrap;\n",
              "      gap: 12px;\n",
              "    }\n",
              "\n",
              "    .colab-df-convert {\n",
              "      background-color: #E8F0FE;\n",
              "      border: none;\n",
              "      border-radius: 50%;\n",
              "      cursor: pointer;\n",
              "      display: none;\n",
              "      fill: #1967D2;\n",
              "      height: 32px;\n",
              "      padding: 0 0 0 0;\n",
              "      width: 32px;\n",
              "    }\n",
              "\n",
              "    .colab-df-convert:hover {\n",
              "      background-color: #E2EBFA;\n",
              "      box-shadow: 0px 1px 2px rgba(60, 64, 67, 0.3), 0px 1px 3px 1px rgba(60, 64, 67, 0.15);\n",
              "      fill: #174EA6;\n",
              "    }\n",
              "\n",
              "    [theme=dark] .colab-df-convert {\n",
              "      background-color: #3B4455;\n",
              "      fill: #D2E3FC;\n",
              "    }\n",
              "\n",
              "    [theme=dark] .colab-df-convert:hover {\n",
              "      background-color: #434B5C;\n",
              "      box-shadow: 0px 1px 3px 1px rgba(0, 0, 0, 0.15);\n",
              "      filter: drop-shadow(0px 1px 2px rgba(0, 0, 0, 0.3));\n",
              "      fill: #FFFFFF;\n",
              "    }\n",
              "  </style>\n",
              "\n",
              "      <script>\n",
              "        const buttonEl =\n",
              "          document.querySelector('#df-bdf01302-7900-49f8-beb6-1a83574722ed button.colab-df-convert');\n",
              "        buttonEl.style.display =\n",
              "          google.colab.kernel.accessAllowed ? 'block' : 'none';\n",
              "\n",
              "        async function convertToInteractive(key) {\n",
              "          const element = document.querySelector('#df-bdf01302-7900-49f8-beb6-1a83574722ed');\n",
              "          const dataTable =\n",
              "            await google.colab.kernel.invokeFunction('convertToInteractive',\n",
              "                                                     [key], {});\n",
              "          if (!dataTable) return;\n",
              "\n",
              "          const docLinkHtml = 'Like what you see? Visit the ' +\n",
              "            '<a target=\"_blank\" href=https://colab.research.google.com/notebooks/data_table.ipynb>data table notebook</a>'\n",
              "            + ' to learn more about interactive tables.';\n",
              "          element.innerHTML = '';\n",
              "          dataTable['output_type'] = 'display_data';\n",
              "          await google.colab.output.renderOutput(dataTable, element);\n",
              "          const docLink = document.createElement('div');\n",
              "          docLink.innerHTML = docLinkHtml;\n",
              "          element.appendChild(docLink);\n",
              "        }\n",
              "      </script>\n",
              "    </div>\n",
              "  </div>\n",
              "  "
            ]
          },
          "metadata": {},
          "execution_count": 138
        }
      ]
    },
    {
      "cell_type": "code",
      "execution_count": 139,
      "metadata": {
        "colab": {
          "base_uri": "https://localhost:8080/",
          "height": 269
        },
        "id": "KHLM95QSTUrl",
        "outputId": "38147bd1-a55a-4ffb-f992-2ade4f925aad"
      },
      "outputs": [
        {
          "output_type": "execute_result",
          "data": {
            "text/plain": [
              "          0         1         2         3         4         5         6\n",
              "0  1.000000  0.999988  0.999988 -0.054682  0.070580 -0.055169  0.999974\n",
              "1  0.999988  1.000000  0.999987 -0.054687  0.070740 -0.055021  0.999989\n",
              "2  0.999988  0.999987  1.000000 -0.054680  0.070541 -0.055321  0.999988\n",
              "3 -0.054682 -0.054687 -0.054680  1.000000  0.629466  0.161610 -0.054684\n",
              "4  0.070580  0.070740  0.070541  0.629466  1.000000  0.148275  0.070689\n",
              "5 -0.055169 -0.055021 -0.055321  0.161610  0.148275  1.000000 -0.055158\n",
              "6  0.999974  0.999989  0.999988 -0.054684  0.070689 -0.055158  1.000000"
            ],
            "text/html": [
              "\n",
              "  <div id=\"df-707bbb2f-fae5-4904-9539-e416fa273fee\">\n",
              "    <div class=\"colab-df-container\">\n",
              "      <div>\n",
              "<style scoped>\n",
              "    .dataframe tbody tr th:only-of-type {\n",
              "        vertical-align: middle;\n",
              "    }\n",
              "\n",
              "    .dataframe tbody tr th {\n",
              "        vertical-align: top;\n",
              "    }\n",
              "\n",
              "    .dataframe thead th {\n",
              "        text-align: right;\n",
              "    }\n",
              "</style>\n",
              "<table border=\"1\" class=\"dataframe\">\n",
              "  <thead>\n",
              "    <tr style=\"text-align: right;\">\n",
              "      <th></th>\n",
              "      <th>0</th>\n",
              "      <th>1</th>\n",
              "      <th>2</th>\n",
              "      <th>3</th>\n",
              "      <th>4</th>\n",
              "      <th>5</th>\n",
              "      <th>6</th>\n",
              "    </tr>\n",
              "  </thead>\n",
              "  <tbody>\n",
              "    <tr>\n",
              "      <th>0</th>\n",
              "      <td>1.000000</td>\n",
              "      <td>0.999988</td>\n",
              "      <td>0.999988</td>\n",
              "      <td>-0.054682</td>\n",
              "      <td>0.070580</td>\n",
              "      <td>-0.055169</td>\n",
              "      <td>0.999974</td>\n",
              "    </tr>\n",
              "    <tr>\n",
              "      <th>1</th>\n",
              "      <td>0.999988</td>\n",
              "      <td>1.000000</td>\n",
              "      <td>0.999987</td>\n",
              "      <td>-0.054687</td>\n",
              "      <td>0.070740</td>\n",
              "      <td>-0.055021</td>\n",
              "      <td>0.999989</td>\n",
              "    </tr>\n",
              "    <tr>\n",
              "      <th>2</th>\n",
              "      <td>0.999988</td>\n",
              "      <td>0.999987</td>\n",
              "      <td>1.000000</td>\n",
              "      <td>-0.054680</td>\n",
              "      <td>0.070541</td>\n",
              "      <td>-0.055321</td>\n",
              "      <td>0.999988</td>\n",
              "    </tr>\n",
              "    <tr>\n",
              "      <th>3</th>\n",
              "      <td>-0.054682</td>\n",
              "      <td>-0.054687</td>\n",
              "      <td>-0.054680</td>\n",
              "      <td>1.000000</td>\n",
              "      <td>0.629466</td>\n",
              "      <td>0.161610</td>\n",
              "      <td>-0.054684</td>\n",
              "    </tr>\n",
              "    <tr>\n",
              "      <th>4</th>\n",
              "      <td>0.070580</td>\n",
              "      <td>0.070740</td>\n",
              "      <td>0.070541</td>\n",
              "      <td>0.629466</td>\n",
              "      <td>1.000000</td>\n",
              "      <td>0.148275</td>\n",
              "      <td>0.070689</td>\n",
              "    </tr>\n",
              "    <tr>\n",
              "      <th>5</th>\n",
              "      <td>-0.055169</td>\n",
              "      <td>-0.055021</td>\n",
              "      <td>-0.055321</td>\n",
              "      <td>0.161610</td>\n",
              "      <td>0.148275</td>\n",
              "      <td>1.000000</td>\n",
              "      <td>-0.055158</td>\n",
              "    </tr>\n",
              "    <tr>\n",
              "      <th>6</th>\n",
              "      <td>0.999974</td>\n",
              "      <td>0.999989</td>\n",
              "      <td>0.999988</td>\n",
              "      <td>-0.054684</td>\n",
              "      <td>0.070689</td>\n",
              "      <td>-0.055158</td>\n",
              "      <td>1.000000</td>\n",
              "    </tr>\n",
              "  </tbody>\n",
              "</table>\n",
              "</div>\n",
              "      <button class=\"colab-df-convert\" onclick=\"convertToInteractive('df-707bbb2f-fae5-4904-9539-e416fa273fee')\"\n",
              "              title=\"Convert this dataframe to an interactive table.\"\n",
              "              style=\"display:none;\">\n",
              "        \n",
              "  <svg xmlns=\"http://www.w3.org/2000/svg\" height=\"24px\"viewBox=\"0 0 24 24\"\n",
              "       width=\"24px\">\n",
              "    <path d=\"M0 0h24v24H0V0z\" fill=\"none\"/>\n",
              "    <path d=\"M18.56 5.44l.94 2.06.94-2.06 2.06-.94-2.06-.94-.94-2.06-.94 2.06-2.06.94zm-11 1L8.5 8.5l.94-2.06 2.06-.94-2.06-.94L8.5 2.5l-.94 2.06-2.06.94zm10 10l.94 2.06.94-2.06 2.06-.94-2.06-.94-.94-2.06-.94 2.06-2.06.94z\"/><path d=\"M17.41 7.96l-1.37-1.37c-.4-.4-.92-.59-1.43-.59-.52 0-1.04.2-1.43.59L10.3 9.45l-7.72 7.72c-.78.78-.78 2.05 0 2.83L4 21.41c.39.39.9.59 1.41.59.51 0 1.02-.2 1.41-.59l7.78-7.78 2.81-2.81c.8-.78.8-2.07 0-2.86zM5.41 20L4 18.59l7.72-7.72 1.47 1.35L5.41 20z\"/>\n",
              "  </svg>\n",
              "      </button>\n",
              "      \n",
              "  <style>\n",
              "    .colab-df-container {\n",
              "      display:flex;\n",
              "      flex-wrap:wrap;\n",
              "      gap: 12px;\n",
              "    }\n",
              "\n",
              "    .colab-df-convert {\n",
              "      background-color: #E8F0FE;\n",
              "      border: none;\n",
              "      border-radius: 50%;\n",
              "      cursor: pointer;\n",
              "      display: none;\n",
              "      fill: #1967D2;\n",
              "      height: 32px;\n",
              "      padding: 0 0 0 0;\n",
              "      width: 32px;\n",
              "    }\n",
              "\n",
              "    .colab-df-convert:hover {\n",
              "      background-color: #E2EBFA;\n",
              "      box-shadow: 0px 1px 2px rgba(60, 64, 67, 0.3), 0px 1px 3px 1px rgba(60, 64, 67, 0.15);\n",
              "      fill: #174EA6;\n",
              "    }\n",
              "\n",
              "    [theme=dark] .colab-df-convert {\n",
              "      background-color: #3B4455;\n",
              "      fill: #D2E3FC;\n",
              "    }\n",
              "\n",
              "    [theme=dark] .colab-df-convert:hover {\n",
              "      background-color: #434B5C;\n",
              "      box-shadow: 0px 1px 3px 1px rgba(0, 0, 0, 0.15);\n",
              "      filter: drop-shadow(0px 1px 2px rgba(0, 0, 0, 0.3));\n",
              "      fill: #FFFFFF;\n",
              "    }\n",
              "  </style>\n",
              "\n",
              "      <script>\n",
              "        const buttonEl =\n",
              "          document.querySelector('#df-707bbb2f-fae5-4904-9539-e416fa273fee button.colab-df-convert');\n",
              "        buttonEl.style.display =\n",
              "          google.colab.kernel.accessAllowed ? 'block' : 'none';\n",
              "\n",
              "        async function convertToInteractive(key) {\n",
              "          const element = document.querySelector('#df-707bbb2f-fae5-4904-9539-e416fa273fee');\n",
              "          const dataTable =\n",
              "            await google.colab.kernel.invokeFunction('convertToInteractive',\n",
              "                                                     [key], {});\n",
              "          if (!dataTable) return;\n",
              "\n",
              "          const docLinkHtml = 'Like what you see? Visit the ' +\n",
              "            '<a target=\"_blank\" href=https://colab.research.google.com/notebooks/data_table.ipynb>data table notebook</a>'\n",
              "            + ' to learn more about interactive tables.';\n",
              "          element.innerHTML = '';\n",
              "          dataTable['output_type'] = 'display_data';\n",
              "          await google.colab.output.renderOutput(dataTable, element);\n",
              "          const docLink = document.createElement('div');\n",
              "          docLink.innerHTML = docLinkHtml;\n",
              "          element.appendChild(docLink);\n",
              "        }\n",
              "      </script>\n",
              "    </div>\n",
              "  </div>\n",
              "  "
            ]
          },
          "metadata": {},
          "execution_count": 139
        }
      ],
      "source": [
        "df.corr()"
      ]
    },
    {
      "cell_type": "code",
      "source": [
        "scaler = MinMaxScaler()\n",
        "f1_scaled=pd.DataFrame(scaler.fit_transform(fo1),columns=['Open', 'High', 'Low', 'Volume'])\n",
        "X_sctrain,X_sctest,Y_sctrain,Y_sctest= train_test_split(f1_scaled,f2,test_size=0.20,random_state=42)\n",
        "\n",
        "scaler_fo1 = StandardScaler()\n",
        "fo1 = scaler_fo1.fit_transform(fo1)\n",
        "\n",
        "scaler_fo3 = StandardScaler()\n",
        "fo3 = scaler_fo3.fit_transform(fo3)\n",
        "\n",
        "scaler_f1 = StandardScaler()\n",
        "f1 = scaler_f1.fit_transform(f1)\n",
        "\n",
        "scaler_f2 = StandardScaler()\n",
        "f2 = scaler_f2.fit_transform(f2)\n",
        "\n",
        "scaler_f3 = StandardScaler()\n",
        "f3 = scaler_f3.fit_transform(f3)"
      ],
      "metadata": {
        "id": "M5BAb0zY3Kc6"
      },
      "execution_count": 140,
      "outputs": []
    },
    {
      "cell_type": "markdown",
      "metadata": {
        "id": "W2sMOa4TzIuW"
      },
      "source": [
        "**Metrics**"
      ]
    },
    {
      "cell_type": "code",
      "execution_count": 141,
      "metadata": {
        "id": "i1pbKK_NzIHC"
      },
      "outputs": [],
      "source": [
        "def RMSE(A,P):\n",
        "  sum = 0\n",
        "  for i in range(len(A)):\n",
        "    sum = sum + (A[i] - P[i])**2\n",
        "  error = math.sqrt((sum/len(A)))\n",
        "  return error\n",
        "\n",
        "def MAPE(A,P):\n",
        "  sum = 0\n",
        "  for i in range(len(A)):\n",
        "     sum = sum+ abs((A[i] - P[i])/(A[i]))\n",
        "  error = (sum / len(A))\n",
        "  return error\n",
        "\n",
        "def MBE(A,P):\n",
        "  sum = 0\n",
        "  for i in range(len(A)):\n",
        "    sum = sum + abs(A[i] - P[i])\n",
        "  error = sum/len(A)\n",
        "  return error\n",
        "\n",
        "def error_list(A,P,var):\n",
        "  if var == 4:\n",
        "    print(\"r2 score for 4 vars is: \", r2_score(A, P))\n",
        "    print(\"RMSE score for 4 vars is: \", RMSE(np.array(A),np.array(P)))\n",
        "    print(\"MAPE score for 4 vars is: \", MAPE(np.array(A),np.array(P)))\n",
        "    print(\"MBE score for 4 vars is: \", MBE(np.array(A),np.array(P)))\n",
        "  else:\n",
        "    print(\"r2 score for 6 vars is: \", r2_score(A, P))\n",
        "    print(\"RMSE score for 6 vars is: \", RMSE(np.array(A),np.array(P)))\n",
        "    print(\"MAPE score for 6 vars is: \", MAPE(np.array(A),np.array(P)))\n",
        "    print(\"MBE score for 6 vars is: \", MBE(np.array(A),np.array(P)))"
      ]
    },
    {
      "cell_type": "markdown",
      "metadata": {
        "id": "72e2mVxkWk3C"
      },
      "source": [
        "# **Linear Regression**"
      ]
    },
    {
      "cell_type": "code",
      "execution_count": 142,
      "metadata": {
        "colab": {
          "base_uri": "https://localhost:8080/"
        },
        "id": "7VTEGcgjViAt",
        "outputId": "8cc597de-85e4-4715-c5f3-da674e7056ba"
      },
      "outputs": [
        {
          "output_type": "stream",
          "name": "stdout",
          "text": [
            "r2 score for 4 vars is:  0.9999899605438798\n",
            "RMSE score for 4 vars is:  0.003110113530403698\n",
            "MAPE score for 4 vars is:  [0.00021106]\n",
            "MBE score for 4 vars is:  [0.00025577]\n",
            "r2 score for 6 vars is:  0.9999899600073869\n",
            "RMSE score for 6 vars is:  0.0031101966291004965\n",
            "MAPE score for 6 vars is:  [0.00022861]\n",
            "MBE score for 6 vars is:  [0.00025765]\n"
          ]
        }
      ],
      "source": [
        "fo_train, fo_test, f2_train, f2_test = train_test_split(fo1, f2, test_size = 0.2, random_state = 0)\n",
        "linear_fo = LinearRegression().fit(fo_train, f2_train)\n",
        "folr_pred = linear_fo.predict(fo_test)\n",
        "error_list(f2_test, folr_pred,4)\n",
        "\n",
        "f1_train, f1_test, f2_train, f2_test = train_test_split(f1, f2, test_size = 0.2, random_state = 0)\n",
        "linear = LinearRegression().fit(f1_train, f2_train)\n",
        "f2_pred = linear.predict(f1_test)\n",
        "error_list(f2_test, f2_pred,6)\n"
      ]
    },
    {
      "cell_type": "markdown",
      "metadata": {
        "id": "JkgpNKSKWnLT"
      },
      "source": [
        "# **Ridge Regression**"
      ]
    },
    {
      "cell_type": "code",
      "execution_count": 143,
      "metadata": {
        "colab": {
          "base_uri": "https://localhost:8080/"
        },
        "id": "5WPKqek4IqBY",
        "outputId": "83c7da9d-5495-4d23-98aa-328cb96f976a"
      },
      "outputs": [
        {
          "output_type": "stream",
          "name": "stdout",
          "text": [
            "r2 score for 4 vars is:  0.9999899607223894\n",
            "RMSE score for 4 vars is:  0.0031100858801088264\n",
            "MAPE score for 4 vars is:  [0.00021453]\n",
            "MBE score for 4 vars is:  [0.00025614]\n",
            "r2 score for 6 vars is:  0.9999899601850045\n",
            "RMSE score for 6 vars is:  0.0031101691177143525\n",
            "MAPE score for 6 vars is:  [0.00022504]\n",
            "MBE score for 6 vars is:  [0.00025724]\n"
          ]
        }
      ],
      "source": [
        "parameters = {'alpha':[1,0.1,0.01,0.001,0.0001,0],\"fit_intercept\": [True, False], \n",
        "              'solver': ['svd']}\n",
        "\n",
        "Ridge_reg= GridSearchCV(Ridge(), param_grid = parameters,cv=5)\n",
        "Ridge_reg.fit(fo_train,f2_train)\n",
        "rr = Ridge_reg.best_estimator_\n",
        "pred = rr.predict(fo_test)\n",
        "error_list(f2_test, pred, 4)\n",
        "\n",
        "Ridge_reg6= GridSearchCV(Ridge(), param_grid = parameters,cv=5)\n",
        "Ridge_reg6.fit(f1_train,f2_train)\n",
        "rr6 = Ridge_reg6.best_estimator_\n",
        "pred6 = rr6.predict(f1_test)\n",
        "error_list(f2_test, pred6, 6)\n"
      ]
    },
    {
      "cell_type": "markdown",
      "metadata": {
        "id": "Kq-Pzps9Xyrw"
      },
      "source": [
        "# **Lasso Regression**"
      ]
    },
    {
      "cell_type": "code",
      "execution_count": 144,
      "metadata": {
        "colab": {
          "base_uri": "https://localhost:8080/"
        },
        "id": "Gcp7p_X3X5Er",
        "outputId": "42d7546d-368d-4d47-fd99-5731f387db85"
      },
      "outputs": [
        {
          "output_type": "stream",
          "name": "stdout",
          "text": [
            "r2 score for 4 vars is:  0.9999899607223894\n",
            "RMSE score for 4 vars is:  0.0031100858801088264\n",
            "MAPE score for 4 vars is:  [0.00021453]\n",
            "MBE score for 4 vars is:  [0.00025614]\n",
            "r2 score for 6 vars is:  0.9999899601850045\n",
            "RMSE score for 6 vars is:  0.0031101691177143525\n",
            "MAPE score for 6 vars is:  [0.00022504]\n",
            "MBE score for 6 vars is:  [0.00025724]\n"
          ]
        }
      ],
      "source": [
        "param_lasso = {'alpha':[1,0.1,0.01,0.001,0.0001],\"fit_intercept\": [True, False]}\n",
        "\n",
        "lasso_reg= GridSearchCV(Lasso(), param_grid = param_lasso,cv=5).fit(fo_train, f2_train)\n",
        "lasso_pred = lasso_reg.predict(fo_test)\n",
        "error_list(f2_test, pred, 4)\n",
        "\n",
        "\n",
        "lasso_reg= GridSearchCV(Lasso(), param_grid = param_lasso,cv=5).fit(f1_train, f2_train)\n",
        "lasso_pred = lasso_reg.predict(f1_test)\n",
        "error_list(f2_test, pred6, 6)\n"
      ]
    },
    {
      "cell_type": "markdown",
      "metadata": {
        "id": "2d89-nCPWxXV"
      },
      "source": [
        "# **Random Forest Regression**"
      ]
    },
    {
      "cell_type": "code",
      "execution_count": 145,
      "metadata": {
        "id": "o0qPGBLoW2nD",
        "colab": {
          "base_uri": "https://localhost:8080/"
        },
        "outputId": "a218882f-8215-4307-9b20-904e3bde4410"
      },
      "outputs": [
        {
          "output_type": "stream",
          "name": "stdout",
          "text": [
            "r2 score for 4 vars is:  0.9999815596417985\n",
            "RMSE score for 4 vars is:  0.004215080043042028\n",
            "MAPE score for 4 vars is:  [0.00026429]\n",
            "MBE score for 4 vars is:  [0.0003658]\n"
          ]
        }
      ],
      "source": [
        "from sklearn.ensemble import RandomForestRegressor\n",
        "model_rfr = RandomForestRegressor(n_estimators = 30, random_state = 0).fit(fo_train,f2_train.ravel())\n",
        "rt_pred = model_rfr.predict(fo_test)\n",
        "error_list(f2_test, rt_pred,4)"
      ]
    },
    {
      "cell_type": "markdown",
      "metadata": {
        "id": "pKpbEACZWzRN"
      },
      "source": [
        "# **KNN**"
      ]
    },
    {
      "cell_type": "code",
      "execution_count": 146,
      "metadata": {
        "id": "furggsBxW8Q3",
        "colab": {
          "base_uri": "https://localhost:8080/",
          "height": 282
        },
        "outputId": "f3dc8e1e-7dcf-4f45-eb19-9e461bcfffee"
      },
      "outputs": [
        {
          "output_type": "execute_result",
          "data": {
            "text/plain": [
              "[<matplotlib.lines.Line2D at 0x7fb8a39bffd0>]"
            ]
          },
          "metadata": {},
          "execution_count": 146
        },
        {
          "output_type": "display_data",
          "data": {
            "text/plain": [
              "<Figure size 432x288 with 1 Axes>"
            ],
            "image/png": "[encoded data removed]"
          },
          "metadata": {
            "needs_background": "light"
          }
        }
      ],
      "source": [
        "rms=[]\n",
        "K_neighbor=[i for i in range(1,20)]\n",
        "for K in K_neighbor:\n",
        "  model = neighbors.KNeighborsRegressor(n_neighbors = K)\n",
        "  model.fit(fo_train,f2_train)\n",
        "  pred=model.predict(fo_test)\n",
        "  rms.append(math.sqrt(mean_squared_error(f2_test,pred)))\n",
        "plt.plot(K_neighbor,rms)"
      ]
    },
    {
      "cell_type": "code",
      "source": [
        "Volume_mean=(statistics.mean(not_scaled_f1.loc[:,'Volume']))\n",
        "Volume_stdev=(statistics.stdev(not_scaled_f1.loc[:,'Volume']))\n",
        "Volume_z= (not_scaled_f1.loc[:,'Volume']-Volume_mean)/Volume_stdev\n",
        "outliers=[]\n",
        "for i in Volume_z:\n",
        "  if i>3 or i<-3:\n",
        "    outliers.append(i)\n",
        "print(len(outliers))\n",
        "\n",
        "\n",
        "rms_sc=[]\n",
        "K_neighbor=[i for i in range(1,20)]\n",
        "for K in K_neighbor:\n",
        "  model = neighbors.KNeighborsRegressor(n_neighbors = K)\n",
        "  model.fit(X_sctrain,Y_sctrain)\n",
        "  pred=model.predict(X_sctest)\n",
        "  rms_sc.append(math.sqrt(mean_squared_error(Y_sctest,pred)))\n",
        "plt.plot(K_neighbor,rms_sc)"
      ],
      "metadata": {
        "colab": {
          "base_uri": "https://localhost:8080/",
          "height": 300
        },
        "id": "yxwJ41u-up0q",
        "outputId": "19f9c335-af96-461f-d764-f66baddcc568"
      },
      "execution_count": 147,
      "outputs": [
        {
          "output_type": "stream",
          "name": "stdout",
          "text": [
            "1882\n"
          ]
        },
        {
          "output_type": "execute_result",
          "data": {
            "text/plain": [
              "[<matplotlib.lines.Line2D at 0x7fb8a2ae08d0>]"
            ]
          },
          "metadata": {},
          "execution_count": 147
        },
        {
          "output_type": "display_data",
          "data": {
            "text/plain": [
              "<Figure size 432x288 with 1 Axes>"
            ],
            "image/png": "[encoded data removed]"
          },
          "metadata": {
            "needs_background": "light"
          }
        }
      ]
    },
    {
      "cell_type": "code",
      "source": [
        "model_knn = neighbors.KNeighborsRegressor(n_neighbors = 7)\n",
        "model_knn.fit(X_sctrain,Y_sctrain)\n",
        "pred_knn=model_knn.predict(X_sctest)\n",
        "error_list(Y_sctest,pred_knn,4)"
      ],
      "metadata": {
        "colab": {
          "base_uri": "https://localhost:8080/"
        },
        "id": "6AKJW8AYxCfa",
        "outputId": "330df6d5-2b55-4002-d1ba-7afd367dee5d"
      },
      "execution_count": 148,
      "outputs": [
        {
          "output_type": "stream",
          "name": "stdout",
          "text": [
            "r2 score for 4 vars is:  0.9999789184675489\n",
            "RMSE score for 4 vars is:  101.21368216591199\n",
            "MAPE score for 4 vars is:  [0.03763835]\n",
            "MBE score for 4 vars is:  [10.35174269]\n"
          ]
        }
      ]
    },
    {
      "cell_type": "markdown",
      "metadata": {
        "id": "-OWDfk-JXBYZ"
      },
      "source": [
        "# **Neural Networks**"
      ]
    },
    {
      "cell_type": "code",
      "execution_count": 149,
      "metadata": {
        "id": "87DUWDAXXBxO",
        "colab": {
          "base_uri": "https://localhost:8080/"
        },
        "outputId": "5809fcd0-7ab9-4c30-f1e7-5ac3b41827ba"
      },
      "outputs": [
        {
          "output_type": "stream",
          "name": "stdout",
          "text": [
            "r2 score for 4 vars is:  -3.073356343308298e-05\n",
            "RMSE score for 4 vars is:  0.9815847969570414\n",
            "MAPE score for 4 vars is:  [1.]\n",
            "MBE score for 4 vars is:  [0.20625625]\n",
            "r2 score for 6 vars is:  -2.353820425282625\n",
            "RMSE score for 6 vars is:  1.7975916925710616\n",
            "MAPE score for 6 vars is:  [1.00871182]\n",
            "MBE score for 6 vars is:  [0.28854026]\n"
          ]
        }
      ],
      "source": [
        "annmodel = Sequential()\n",
        "annmodel.add(Dense(units = 4, input_dim = 4, activation = 'relu'))\n",
        "annmodel.add(Dense(units = 3, activation = 'relu'))\n",
        "annmodel.add(Dense(units = 1, activation = 'relu'))\n",
        "annmodel.compile(loss = tf.keras.losses.binary_crossentropy, optimizer = tf.keras.optimizers.SGD(learning_rate = 0.1, momentum = 0.6))\n",
        "h = annmodel.fit(fo_train, f2_train, batch_size=300, epochs=10, verbose=0)\n",
        "ann_pred = annmodel.predict(fo_test)\n",
        "error_list(f2_test, ann_pred, 4)\n",
        "\n",
        "annmodel6 = Sequential()\n",
        "annmodel6.add(Dense(units = 4, input_dim = 6, activation = 'relu'))\n",
        "annmodel.add(Dense(units = 3, activation = 'relu'))\n",
        "annmodel6.add(Dense(units = 1, activation = 'relu'))\n",
        "annmodel6.compile(loss = tf.keras.losses.binary_crossentropy, optimizer = tf.keras.optimizers.SGD(learning_rate = 0.01, momentum = 0.9))\n",
        "h = annmodel6.fit(f1_train, f2_train, batch_size=300, epochs=10, verbose=0)\n",
        "ann_pred6 = annmodel6.predict(f1_test)\n",
        "error_list(f2_test, ann_pred6, 6)"
      ]
    },
    {
      "cell_type": "markdown",
      "source": [
        "**Taking output using best regressor.**"
      ],
      "metadata": {
        "id": "H6tIDqTqcs-c"
      }
    },
    {
      "cell_type": "code",
      "source": [
        "nfo_train, nfo_test, nf2_train, nf2_test = train_test_split(nfo1,nf2, test_size = 0.2, random_state = 0)\n",
        "linear_fo = LinearRegression().fit(nfo_train, nf2_train)\n",
        "prediction = linear_fo.predict(fo3)\n"
      ],
      "metadata": {
        "id": "xkvpeM0ak8Oa"
      },
      "execution_count": 223,
      "outputs": []
    },
    {
      "cell_type": "code",
      "source": [
        "dates = []\n",
        "string = 'd'\n",
        "for i in range(len(prediction)):\n",
        "  s = string + str(i+1)\n",
        "  dates.append(s)\n",
        "dates = np.array(dates)\n",
        "prediction = np.array(prediction)"
      ],
      "metadata": {
        "id": "-QoXROEQeGy7"
      },
      "execution_count": 224,
      "outputs": []
    },
    {
      "cell_type": "code",
      "source": [
        "Output1 = pd.DataFrame(dates, columns = None)\n",
        "Output2 = pd.DataFrame(prediction, columns = None)\n",
        "Output = pd.merge(Output1,Output2, left_index = True, right_index = True)"
      ],
      "metadata": {
        "id": "ZJKISYeyfnIp"
      },
      "execution_count": 249,
      "outputs": []
    },
    {
      "cell_type": "code",
      "source": [
        "Output.to_csv('Eshan_Kale_text.txt', header = None, index = None, sep = ',')"
      ],
      "metadata": {
        "id": "P0f3VED6o7nd"
      },
      "execution_count": 256,
      "outputs": []
    },
    {
      "cell_type": "code",
      "source": [
        "print(Output1, Output2)"
      ],
      "metadata": {
        "colab": {
          "base_uri": "https://localhost:8080/"
        },
        "id": "NIR6mcm0jIZY",
        "outputId": "9d05d11d-edbf-45eb-a7af-5cf459fe3297"
      },
      "execution_count": 243,
      "outputs": [
        {
          "output_type": "stream",
          "name": "stdout",
          "text": [
            "         Date\n",
            "0          d1\n",
            "1          d2\n",
            "2          d3\n",
            "3          d4\n",
            "4          d5\n",
            "...       ...\n",
            "10855  d10856\n",
            "10856  d10857\n",
            "10857  d10858\n",
            "10858  d10859\n",
            "10859  d10860\n",
            "\n",
            "[10860 rows x 1 columns]              pred\n",
            "0       26.202346\n",
            "1       94.511814\n",
            "2       55.082437\n",
            "3      124.286092\n",
            "4       20.728026\n",
            "...           ...\n",
            "10855   51.321801\n",
            "10856   40.131989\n",
            "10857   22.546762\n",
            "10858   33.852326\n",
            "10859   90.737007\n",
            "\n",
            "[10860 rows x 1 columns]\n"
          ]
        }
      ]
    },
    {
      "cell_type": "code",
      "source": [
        ""
      ],
      "metadata": {
        "id": "xNDir6MumgHN"
      },
      "execution_count": null,
      "outputs": []
    }
  ],
  "metadata": {
    "colab": {
      "name": "Project_17088.ipynb",
      "provenance": [],
      "collapsed_sections": []
    },
    "kernelspec": {
      "display_name": "Python 3",
      "name": "python3"
    },
    "language_info": {
      "name": "python"
    }
  },
  "nbformat": 4,
  "nbformat_minor": 0
}